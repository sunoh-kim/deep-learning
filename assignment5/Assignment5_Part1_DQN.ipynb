{
 "cells": [
  {
   "cell_type": "markdown",
   "metadata": {},
   "source": [
    "# M2177.003100 Deep Learning <br>Assignment #5 Part 1: Implementing and Training a Deep Q-Network"
   ]
  },
  {
   "cell_type": "markdown",
   "metadata": {},
   "source": [
    "Copyright (C) Data Science Laboratory, Seoul National University. This material is for educational uses only. Some contents are based on the material provided by other paper/book authors and may be copyrighted by them. Written by Hyungyu Lee, November 2019"
   ]
  },
  {
   "cell_type": "markdown",
   "metadata": {},
   "source": [
    "In this notebook, you will implement one of famous reinforcement learning algorithm, Deep Q-Network (DQN) of DeepMind. <br>\n",
    "The goal here is to understand a basic form of DQN [1, 2] and learn how to use OpenAI Gym toolkit [3].<br>\n",
    "You need to follow the instructions to implement the given classes.\n",
    "\n",
    "1. [Play](#play) ( 50 points )\n",
    "\n",
    "**Note**: certain details are missing or ambiguous on purpose, in order to test your knowledge on the related materials. However, if you really feel that something essential is missing and cannot proceed to the next step, then contact the teaching staff with clear description of your problem.\n",
    "\n",
    "### Submitting your work:\n",
    "<font color=red>**DO NOT clear the final outputs**</font> so that TAs can grade both your code and results.  \n",
    "Once you have done **two parts of the assignment**, run the *CollectSubmission.sh* script with your **Team number** as input argument. <br>\n",
    "This will produce a zipped file called *[Your team number].tar.gz*. Please submit this file on ETL. &nbsp;&nbsp; (Usage: ./*CollectSubmission.sh* &nbsp; Team_#)\n",
    "\n",
    "### Some helpful references for assignment #4 :\n",
    "- [1] Mnih, Volodymyr, et al. \"Playing atari with deep reinforcement learning.\" arXiv preprint arXiv:1312.5602 (2013). [[pdf]](https://www.google.co.kr/url?sa=t&rct=j&q=&esrc=s&source=web&cd=3&cad=rja&uact=8&ved=0ahUKEwiI3aqPjavVAhXBkJQKHZsIDpgQFgg7MAI&url=https%3A%2F%2Fwww.cs.toronto.edu%2F~vmnih%2Fdocs%2Fdqn.pdf&usg=AFQjCNEd1AJoM72DeDpI_GBoPuv7NnVoFA)\n",
    "- [2] Mnih, Volodymyr, et al. \"Human-level control through deep reinforcement learning.\" Nature 518.7540 (2015): 529-533. [[pdf]](https://www.nature.com/nature/journal/v518/n7540/pdf/nature14236.pdf)\n",
    "- [3] OpenAI GYM website [[link]](https://gym.openai.com/envs) and [[git]](https://github.com/openai/gym)"
   ]
  },
  {
   "cell_type": "markdown",
   "metadata": {},
   "source": [
    "## 0. OpenAI Gym\n",
    "\n",
    "OpenAI Gym is a toolkit to support diverse environments for developing reinforcement learning algorithms. You can use the toolkit with Python as well as TensorFlow. Installation guide of OpenAI Gym is offered by [this link](https://github.com/openai/gym#installation) or just type the command \"pip install gym\" (as well as \"pip install gym[atari]\" for Part2). \n",
    "\n",
    "After you set up OpenAI Gym, you can use APIs of the toolkit by inserting <font color=red>import gym</font> into your code. In this assignment, you must build one of famous reinforcement learning algorithms whose agent can run on OpenAI Gym environments. Please check how to use APIs such as funcions interacting with environments in the followings."
   ]
  },
  {
   "cell_type": "code",
   "execution_count": 1,
   "metadata": {},
   "outputs": [
    {
     "name": "stderr",
     "output_type": "stream",
     "text": [
      "/home/pil-kso/anaconda3/envs/deep-learning-19/lib/python3.6/site-packages/tensorflow/python/framework/dtypes.py:523: FutureWarning: Passing (type, 1) or '1type' as a synonym of type is deprecated; in a future version of numpy, it will be understood as (type, (1,)) / '(1,)type'.\n",
      "  _np_qint8 = np.dtype([(\"qint8\", np.int8, 1)])\n",
      "/home/pil-kso/anaconda3/envs/deep-learning-19/lib/python3.6/site-packages/tensorflow/python/framework/dtypes.py:524: FutureWarning: Passing (type, 1) or '1type' as a synonym of type is deprecated; in a future version of numpy, it will be understood as (type, (1,)) / '(1,)type'.\n",
      "  _np_quint8 = np.dtype([(\"quint8\", np.uint8, 1)])\n",
      "/home/pil-kso/anaconda3/envs/deep-learning-19/lib/python3.6/site-packages/tensorflow/python/framework/dtypes.py:525: FutureWarning: Passing (type, 1) or '1type' as a synonym of type is deprecated; in a future version of numpy, it will be understood as (type, (1,)) / '(1,)type'.\n",
      "  _np_qint16 = np.dtype([(\"qint16\", np.int16, 1)])\n",
      "/home/pil-kso/anaconda3/envs/deep-learning-19/lib/python3.6/site-packages/tensorflow/python/framework/dtypes.py:526: FutureWarning: Passing (type, 1) or '1type' as a synonym of type is deprecated; in a future version of numpy, it will be understood as (type, (1,)) / '(1,)type'.\n",
      "  _np_quint16 = np.dtype([(\"quint16\", np.uint16, 1)])\n",
      "/home/pil-kso/anaconda3/envs/deep-learning-19/lib/python3.6/site-packages/tensorflow/python/framework/dtypes.py:527: FutureWarning: Passing (type, 1) or '1type' as a synonym of type is deprecated; in a future version of numpy, it will be understood as (type, (1,)) / '(1,)type'.\n",
      "  _np_qint32 = np.dtype([(\"qint32\", np.int32, 1)])\n",
      "/home/pil-kso/anaconda3/envs/deep-learning-19/lib/python3.6/site-packages/tensorflow/python/framework/dtypes.py:532: FutureWarning: Passing (type, 1) or '1type' as a synonym of type is deprecated; in a future version of numpy, it will be understood as (type, (1,)) / '(1,)type'.\n",
      "  np_resource = np.dtype([(\"resource\", np.ubyte, 1)])\n"
     ]
    }
   ],
   "source": [
    "import tensorflow as tf\n",
    "import cv2 \n",
    "import gym\n",
    "import numpy as np\n",
    "import os\n",
    "import argparse\n",
    "import sys\n",
    "import random\n",
    "\n",
    "#os.environ[\"CUDA_DEVICE_ORDER\"]=\"PCI_BUS_ID\"\n",
    "#os.environ[\"CUDA_VISIBLE_DEVICES\"]=\"0\""
   ]
  },
  {
   "cell_type": "code",
   "execution_count": 2,
   "metadata": {},
   "outputs": [
    {
     "name": "stderr",
     "output_type": "stream",
     "text": [
      "[2019-11-26 02:21:49,210] Making new env: CartPole-v0\n"
     ]
    },
    {
     "name": "stdout",
     "output_type": "stream",
     "text": [
      "2\n",
      "(4,)\n"
     ]
    },
    {
     "name": "stderr",
     "output_type": "stream",
     "text": [
      "/home/pil-kso/anaconda3/envs/deep-learning-19/lib/python3.6/site-packages/gym/envs/registration.py:17: PkgResourcesDeprecationWarning: Parameters to load are deprecated.  Call .resolve and .require separately.\n",
      "  result = entry_point.load(False)\n"
     ]
    }
   ],
   "source": [
    "# Make an environment instance of CartPole-v0.\n",
    "env = gym.make('CartPole-v0')\n",
    "\n",
    "# Before interacting with the environment and starting a new episode, you must reset the environment's state.\n",
    "state = env.reset()\n",
    "\n",
    "#rendering game screens, do not need for assignment evaluation\n",
    "# env.render() \n",
    "\n",
    "# You can check action space and state (observation) space.\n",
    "num_actions = env.action_space.n\n",
    "state_shape = env.observation_space.shape\n",
    "print(num_actions)\n",
    "print(state_shape)\n",
    "\n",
    "# \"step\" function performs agent's actions given current state of the environment and returns several values.\n",
    "# Input: action (numerical data)\n",
    "#        - env.action_space.sample(): select a random action among possible actions.\n",
    "# Output: next_state (numerical data, next state of the environment after performing given action)\n",
    "#         reward (numerical data, reward of given action given current state)\n",
    "#         terminal (boolean data, True means the agent is done in the environment)\n",
    "next_state, reward, terminal, info = env.step(env.action_space.sample())"
   ]
  },
  {
   "cell_type": "markdown",
   "metadata": {},
   "source": [
    "## 1. Implement a DQN agent\n",
    "## 1) Overview of implementation in the notebook\n",
    "\n",
    "The assignment is based on a method named by Deep Q-Network (DQN) [1,2]. You could find the details of DQN in the papers. The followings show briefly architecture of DQN and its training computation flow.\n",
    "\n",
    "- (Pink flow) Play an episode and save transition records of the episode into a replay memory.\n",
    "- (Green flow) Train DQN so that a loss function in the figure is minimized. The loss function is computed using main Q-network and Target Q-network. Target Q-network needs to be periodically updated by copying the main Q-network.\n",
    "- (Purple flow) Gradient can be autonomously computed by tensorflow engine, if you build a proper optimizer.\n",
    "\n",
    "![](image/architecture.png)\n",
    "\n",
    "There are major 4 components, each of which needs to be implemented in this notebook. The Agent class must have an instance(s) of each class (Environment, DQN, ReplayMemory).\n",
    "- Environment\n",
    "- DQN \n",
    "- ReplayMemory\n",
    "- Agent\n",
    "\n",
    "![](image/components.png)\n",
    "\n"
   ]
  },
  {
   "cell_type": "markdown",
   "metadata": {},
   "source": [
    "## 2) Design classes\n",
    "\n",
    "In the code cells, there are only names of functions which are used in TA's implementation and their brief explanations. <font color='green'>...</font> means that the functions need more arguments and <font color='green'>pass</font> means that you need to write more codes. The functions may be helpful when you do not know how to start the assignment. Of course, you could change the functions such as deleting/adding functions or extending/reducing roles of the classes, <font color='red'> just keeping the existence of the classes</font>.\n",
    "\n",
    "### Environment class"
   ]
  },
  {
   "cell_type": "code",
   "execution_count": 3,
   "metadata": {},
   "outputs": [],
   "source": [
    "class Environment(object):\n",
    "    def __init__(self, args):\n",
    "        self.env = gym.make(args.env_name)\n",
    "        self.display = args.display\n",
    "        self.reward = 0\n",
    "        self.terminal = True\n",
    "        self.state = None\n",
    "        self.state_shape = args.input_size\n",
    "\n",
    "\n",
    "    def random_action(self):\n",
    "        # Return a random action.\n",
    "        return self.env.action_space.sample()\n",
    "    \n",
    "    def render_worker(self):\n",
    "        # If display in your option is true, do rendering. Otherwise, do not.\n",
    "        # you do not need to render in this assignment\n",
    "        if self.display:\n",
    "            self.env.render()\n",
    "    \n",
    "    def new_episode(self):\n",
    "        # Start a new episode and return the first state of the new episode.\n",
    "        state = self.env.reset()\n",
    "        return state\n",
    "    \n",
    "    def step(self, action):\n",
    "        self.state, self.reward, self.terminal, _ = self.env.step(action)\n",
    "\n",
    "    def act(self, action):\n",
    "        # Perform an action which is given by input argument and return the results of acting.\n",
    "        self.step(action)\n",
    "        self.render_worker()\n",
    "        return self.state, self.reward, self.terminal"
   ]
  },
  {
   "cell_type": "markdown",
   "metadata": {},
   "source": [
    "### ReplayMemory class"
   ]
  },
  {
   "cell_type": "code",
   "execution_count": 4,
   "metadata": {},
   "outputs": [],
   "source": [
    "class ReplayMemory(object):\n",
    "    def __init__(self, args):\n",
    "        self.memory_size = args.memory_size\n",
    "        self.batch_size = args.batch_size\n",
    "        self.state_shape = args.input_size\n",
    "\n",
    "        self.actions = np.empty(self.memory_size, dtype = np.uint8)\n",
    "        self.rewards = np.empty(self.memory_size, dtype = np.integer)\n",
    "        self.states = np.empty((self.memory_size, self.state_shape), dtype = np.float16)\n",
    "        self.terminals = np.empty(self.memory_size, dtype = np.bool)\n",
    "        self.count = 0\n",
    "        self.current = 0\n",
    "\n",
    "        self.prestates = np.empty((self.batch_size, self.state_shape), dtype = np.float16)\n",
    "        self.poststates = np.empty((self.batch_size,self.state_shape), dtype = np.float16)\n",
    "    \n",
    "    def add(self, state, reward, action, terminal):\n",
    "        assert state.shape[0] == self.state_shape\n",
    "\n",
    "        self.actions[self.current] = action\n",
    "        self.rewards[self.current] = reward\n",
    "        self.states[self.current, :] = state[0]\n",
    "        self.terminals[self.current] = terminal\n",
    "        self.count = max(self.count, self.current + 1)\n",
    "        self.current = (self.current + 1) % self.memory_size\n",
    "        \n",
    "    def get_state(self, index):\n",
    "        assert self.count > 0\n",
    "        index = index % self.count\n",
    "        return self.states[index, :]\n",
    "\n",
    "    def mini_batch(self):\n",
    "        # Return a mini_batch from replay_memory according to your sampling method. (such as uniform-random sampling in DQN papers)\n",
    "        indexes = []\n",
    "        while len(indexes) < self.batch_size:\n",
    "            while True:\n",
    "                index = random.randint(1, self.count - 1)\n",
    "                if index >= self.current and index - 1 < self.current:\n",
    "                    continue\n",
    "                if self.terminals[(index - 1):index].any():\n",
    "                    continue\n",
    "                break\n",
    "\n",
    "            self.prestates[len(indexes), ...] = self.get_state(index - 1)\n",
    "            self.poststates[len(indexes), ...] = self.get_state(index)\n",
    "            indexes.append(index)\n",
    "\n",
    "        actions = self.actions[indexes]\n",
    "        rewards = self.rewards[indexes]\n",
    "        terminals = self.terminals[indexes]\n",
    "\n",
    "        return self.prestates, actions, rewards, self.poststates, terminals\n",
    "        "
   ]
  },
  {
   "cell_type": "markdown",
   "metadata": {},
   "source": [
    "### DQN class"
   ]
  },
  {
   "cell_type": "code",
   "execution_count": 5,
   "metadata": {},
   "outputs": [],
   "source": [
    "class DQN(object):\n",
    "    def __init__(self, args, sess, name=\"main\"):\n",
    "        self.session = sess \n",
    "        self.args = args\n",
    "        self.input_size = args.input_size \n",
    "        self.output_size = args.output_size \n",
    "        self.net_name = name \n",
    "        self.build_network(name)\n",
    "    \n",
    "    def build_network(self, name, width = 10, L_rate = 1e-1):\n",
    "        # Make your a deep neural network\n",
    "        self.x=tf.placeholder(dtype=tf.float32, shape=[None, self.input_size])\n",
    "        with tf.variable_scope(name):\n",
    "            W1 = tf.get_variable('W1',shape=[self.input_size, width],initializer=tf.contrib.layers.xavier_initializer()) \n",
    "            W2 = tf.get_variable('W2',shape=[width, self.output_size],initializer=tf.contrib.layers.xavier_initializer())\n",
    "\n",
    "            L1=tf.nn.tanh(tf.matmul(self.x,W1))\n",
    "\n",
    "            self.Q_pre = tf.matmul(L1,W2) \n",
    "            self.y=tf.placeholder(dtype=tf.float32, shape=[None, self.output_size]) \n",
    "\n",
    "            self.loss = tf.reduce_sum(tf.square(self.y - self.Q_pre)) \n",
    "            self.build_optimizer()\n",
    "    \n",
    "    def build_optimizer(self):\n",
    "        # Make your optimizer \n",
    "        self.train = tf.train.AdamOptimizer(learning_rate=self.args.learning_rate).minimize(self.loss)\n",
    "    \n",
    "    def train_network(self, replay_memory):\n",
    "        # Train the prediction_Q network using a mini-batch sampled from the replay memory\n",
    "        for index in range(self.args.replay_num): \n",
    "            s_r, a_r, r_r, s1_r, d_r = replay_memory.mini_batch()\n",
    "            Q = self.predict(s_r) \n",
    "\n",
    "            if d_r.any(): \n",
    "                Q[0, a_r] = -100 \n",
    "            else: \n",
    "                Q[0, a_r] = r_r + self.args.discount_factor * np.max(self.predict(s1_r)) \n",
    "            self.update_target_network(np.reshape(s_r, [-1, self.input_size]), Q)\n",
    "\n",
    "    \n",
    "    def update_target_network(self, x, y):\n",
    "        self.session.run(self.train, feed_dict={self.x : x, self.y : y})\n",
    "    \n",
    "    def predict(self, state):\n",
    "        s_t = np.reshape(state, [-1, self.input_size]) \n",
    "        return self.session.run(self.Q_pre, feed_dict={self.x : s_t})\n"
   ]
  },
  {
   "cell_type": "markdown",
   "metadata": {},
   "source": [
    "### Agent class"
   ]
  },
  {
   "cell_type": "code",
   "execution_count": 6,
   "metadata": {},
   "outputs": [],
   "source": [
    "class Agent(object):\n",
    "    def __init__(self, args, sess, name = 'main'):\n",
    "        self.args = args\n",
    "        self.sess = sess\n",
    "\n",
    "        self.env = Environment(self.args)\n",
    "        self.memory = ReplayMemory(self.args)\n",
    "        \n",
    "        self.returns = []\n",
    "        self.main_dqn = DQN(self.args, sess)\n",
    "        sess.run(tf.global_variables_initializer())\n",
    "        \n",
    "        self.saver = tf.train.Saver()\n",
    "    \n",
    "    def select_action(self, state, epsilon):\n",
    "        # Select an action according ε-greedy. You need to use a random-number generating function and add a library if necessary.\n",
    "        if epsilon > np.random.rand(1): \n",
    "            action = self.env.random_action() \n",
    "        else: \n",
    "            action = np.argmax(self.main_dqn.predict(state))\n",
    "        return action\n",
    "    \n",
    "    def train(self):\n",
    "        # Train your agent \n",
    "        # Several hyper-parameters are determined by your choice\n",
    "        # Keep epsilon-greedy action selection in your mind \n",
    "        self.returns = []\n",
    "        \n",
    "        for step in range(self.args.num_episode):\n",
    "            s = self.env.new_episode()\n",
    "            e = 1. / ((step/10)+1) \n",
    "            rall = 0 \n",
    "            d = False \n",
    "            count=0\n",
    "            \n",
    "            while not d and count < 5000:\n",
    "                count+=1\n",
    "                a = self.select_action(s, e)\n",
    "                s1, r, d = self.env.act(a)\n",
    "                self.memory.add(s, r, a, d)\n",
    "                rall += r \n",
    "                s = s1\n",
    "            if step % 10 == 1 : \n",
    "                for _ in range(self.args.batch_size): \n",
    "                    self.main_dqn.train_network(self.memory)\n",
    "\n",
    "            self.returns.append(rall) \n",
    "                    \n",
    "    def play(self):\n",
    "        # Test your agent \n",
    "        # When performing test, you can show the environment's screen by rendering if you want\n",
    "        s = self.env.new_episode()\n",
    "        rall = 0 \n",
    "        d = False \n",
    "        count=0\n",
    "\n",
    "        while not d and count < 5000:\n",
    "            count+=1\n",
    "            a = self.select_action(s, 0)\n",
    "            s1, r, d = self.env.act(a)\n",
    "            self.memory.add(s, r, a, d)\n",
    "            rall += r \n",
    "            s = s1\n",
    "        return rall\n",
    "    \n",
    "    def save(self):\n",
    "        checkpoint_dir = 'cartpole'\n",
    "        if not os.path.exists(checkpoint_dir):\n",
    "            os.mkdir(checkpoint_dir)\n",
    "        self.saver.save(self.sess, os.path.join(checkpoint_dir, 'trained_agent'))\n",
    "        \n",
    "    def load(self):\n",
    "        checkpoint_dir = 'cartpole'\n",
    "        self.saver.restore(self.sess, os.path.join(checkpoint_dir, 'trained_agent'))"
   ]
  },
  {
   "cell_type": "markdown",
   "metadata": {},
   "source": [
    "## 2. Train your agent \n",
    "\n",
    "Now, you train an agent to play CartPole-v0. Options class is the collection of hyper-parameters that you can choice. Usage of Options class is not mandatory.<br>\n",
    "The maximum value of total reward which can be aquired from one episode is 200. \n",
    "<font color='red'>**You should show learning status such as the number of observed states and mean/max/min of rewards frequently (for instance, every 100 states).**</font>"
   ]
  },
  {
   "cell_type": "code",
   "execution_count": 7,
   "metadata": {},
   "outputs": [
    {
     "data": {
      "text/plain": [
       "'\\nYou can add more arguments.\\nfor example, visualize, memory_size, batch_size, discount_factor, eps_max, eps_min, learning_rate, train_interval, copy_interval and so on\\n'"
      ]
     },
     "execution_count": 7,
     "metadata": {},
     "output_type": "execute_result"
    }
   ],
   "source": [
    "parser = argparse.ArgumentParser(description=\"CartPole\")\n",
    "parser.add_argument('--env-name', default='CartPole-v0', type=str,\n",
    "                    help=\"Environment\")\n",
    "parser.add_argument('--replay-num', default=10, type=int, help=\"\")\n",
    "parser.add_argument('--batch-size', default=50, type=int, help=\"\")\n",
    "parser.add_argument('--memory-size', default=50000, type=int, help=\"\")\n",
    "parser.add_argument('--history-length', default=4, type=int, help=\"\")\n",
    "parser.add_argument('--learning-rate', default=0.1, type=float, help=\"\")\n",
    "parser.add_argument('--num-episode', default=2000, type=int, help=\"\")\n",
    "parser.add_argument('--discount-factor', default=0.9, type=float, help=\"\")\n",
    "parser.add_argument('--input-size', default=state_shape[0], help=\"\")\n",
    "parser.add_argument('--output-size', default=num_actions, help=\"\")\n",
    "parser.add_argument('--display', default=False, help=\"\")\n",
    "\n",
    "\n",
    "\"\"\"\n",
    "You can add more arguments.\n",
    "for example, visualize, memory_size, batch_size, discount_factor, eps_max, eps_min, learning_rate, train_interval, copy_interval and so on\n",
    "\"\"\"\n",
    "\n",
    "with tf.Session() as sess:\n",
    "#     args = parser.parse_args()\n",
    "    args = parser.parse_known_args()[0]\n",
    "    myAgent = Agent(args, sess) # It depends on your class implementation\n",
    "    myAgent.train()\n",
    "    myAgent.save()"
   ]
  },
  {
   "cell_type": "markdown",
   "metadata": {},
   "source": [
    "## <a name=\"play\"></a> 3. Test the trained agent ( 50 points )\n",
    "\n",
    "Now, we test your agent and calculate an average reward of 20 episodes.\n",
    "- 0 <= average reward < 50 : you can get 0 points\n",
    "- 50 <= average reward < 100 : you can get 10 points\n",
    "- 100 <= average reward < 190 : you can get 35 points\n",
    "- 190 <= average reward <= 200 : you can get 50 points"
   ]
  },
  {
   "cell_type": "code",
   "execution_count": 8,
   "metadata": {},
   "outputs": [
    {
     "name": "stderr",
     "output_type": "stream",
     "text": [
      "[2019-11-26 02:22:05,095] Making new env: CartPole-v0\n"
     ]
    },
    {
     "name": "stdout",
     "output_type": "stream",
     "text": [
      "INFO:tensorflow:Restoring parameters from cartpole/trained_agent\n"
     ]
    },
    {
     "name": "stderr",
     "output_type": "stream",
     "text": [
      "[2019-11-26 02:22:08,853] Restoring parameters from cartpole/trained_agent\n"
     ]
    },
    {
     "name": "stdout",
     "output_type": "stream",
     "text": [
      "[200.0, 200.0, 198.0, 200.0, 200.0, 200.0, 200.0, 200.0, 200.0, 200.0, 200.0, 200.0, 200.0, 200.0, 199.0, 200.0, 200.0, 200.0, 200.0, 200.0]\n",
      "199.85\n"
     ]
    }
   ],
   "source": [
    "config = tf.ConfigProto()\n",
    "# If you use a GPU, uncomment\n",
    "os.environ[\"CUDA_VISIBLE_DEVICES\"] = '0'\n",
    "config.log_device_placement = False\n",
    "config.gpu_options.allow_growth = True\n",
    "tf.reset_default_graph()\n",
    "with tf.Session(config=config) as sess:\n",
    "    args = parser.parse_known_args()[0] # You set the option of test phase\n",
    "    myAgent = Agent(args, sess, 'test') # It depends on your class implementation\n",
    "    myAgent.load()\n",
    "    rewards = []\n",
    "    for i in range(20):\n",
    "        r = myAgent.play() # play() returns the reward cumulated in one episode\n",
    "        rewards.append(r)\n",
    "    mean = np.mean(rewards)\n",
    "    print(rewards)\n",
    "    print(mean)"
   ]
  }
 ],
 "metadata": {
  "kernelspec": {
   "display_name": "Python 3",
   "language": "python",
   "name": "python3"
  },
  "language_info": {
   "codemirror_mode": {
    "name": "ipython",
    "version": 3
   },
   "file_extension": ".py",
   "mimetype": "text/x-python",
   "name": "python",
   "nbconvert_exporter": "python",
   "pygments_lexer": "ipython3",
   "version": "3.6.9"
  }
 },
 "nbformat": 4,
 "nbformat_minor": 2
}
